{
  "nbformat": 4,
  "nbformat_minor": 0,
  "metadata": {
    "colab": {
      "name": "P4B 2.15 Hello_World",
      "provenance": [],
      "authorship_tag": "ABX9TyP9pNCP+wFG7Y3vfss9Ndlt",
      "include_colab_link": true
    },
    "kernelspec": {
      "name": "python3",
      "display_name": "Python 3"
    },
    "language_info": {
      "name": "python"
    }
  },
  "cells": [
    {
      "cell_type": "markdown",
      "metadata": {
        "id": "view-in-github",
        "colab_type": "text"
      },
      "source": [
        "<a href=\"https://colab.research.google.com/github/magfye/Learning-Python/blob/main/P4B_2_15_Hello_World.ipynb\" target=\"_parent\"><img src=\"https://colab.research.google.com/assets/colab-badge.svg\" alt=\"Open In Colab\"/></a>"
      ]
    },
    {
      "cell_type": "code",
      "execution_count": 1,
      "metadata": {
        "colab": {
          "base_uri": "https://localhost:8080/"
        },
        "id": "fCSpD27gLbzs",
        "outputId": "673399ce-911e-4737-d000-deb3b9dee985"
      },
      "outputs": [
        {
          "output_type": "stream",
          "name": "stdout",
          "text": [
            "Hello world\n"
          ]
        }
      ],
      "source": [
        "print(\"Hello world\") "
      ]
    },
    {
      "cell_type": "code",
      "source": [
        "print(\"Hello world\")\n",
        "print('Hello world')"
      ],
      "metadata": {
        "colab": {
          "base_uri": "https://localhost:8080/"
        },
        "id": "jS_Nn1DlLkiQ",
        "outputId": "2ad59731-6d54-4b3f-c0ce-b12dbe02df42"
      },
      "execution_count": 2,
      "outputs": [
        {
          "output_type": "stream",
          "name": "stdout",
          "text": [
            "Hello world\n",
            "Hello world\n"
          ]
        }
      ]
    },
    {
      "cell_type": "code",
      "source": [
        "print(\"She said, 'Hello world'\")\n",
        "print('He said, \"Hello world\"')"
      ],
      "metadata": {
        "colab": {
          "base_uri": "https://localhost:8080/"
        },
        "id": "NkeWiIfSLzu6",
        "outputId": "2ff1c210-3df5-4e9f-a819-1459471693b2"
      },
      "execution_count": null,
      "outputs": [
        {
          "output_type": "stream",
          "name": "stdout",
          "text": [
            "She said, 'Hello world'\n",
            "He said, \"Hello world\"\n"
          ]
        }
      ]
    },
    {
      "cell_type": "code",
      "source": [
        "#this is a comment\n",
        "print(\"Comments are very useful!\")"
      ],
      "metadata": {
        "colab": {
          "base_uri": "https://localhost:8080/"
        },
        "id": "IFYMWVWLL-Sb",
        "outputId": "bacb7443-0388-430e-92cd-647601520650"
      },
      "execution_count": null,
      "outputs": [
        {
          "output_type": "stream",
          "name": "stdout",
          "text": [
            "Comments are very useful!\n"
          ]
        }
      ]
    },
    {
      "cell_type": "code",
      "source": [
        "#print a friendly greeting\n",
        "print(\"Hello world\")"
      ],
      "metadata": {
        "colab": {
          "base_uri": "https://localhost:8080/"
        },
        "id": "DG0YWAC9MCJk",
        "outputId": "902c1846-4749-4e42-afd5-4671bd349f36"
      },
      "execution_count": null,
      "outputs": [
        {
          "output_type": "stream",
          "name": "stdout",
          "text": [
            "Hello world\n"
          ]
        }
      ]
    },
    {
      "cell_type": "code",
      "source": [
        "#forgetting quotes\n",
        "print(Hello world)"
      ],
      "metadata": {
        "colab": {
          "base_uri": "https://localhost:8080/",
          "height": 133
        },
        "id": "AnCNnLegMtKu",
        "outputId": "d656d296-611a-4d7c-b738-ac1fc0eb875b"
      },
      "execution_count": null,
      "outputs": [
        {
          "output_type": "error",
          "ename": "SyntaxError",
          "evalue": "ignored",
          "traceback": [
            "\u001b[0;36m  File \u001b[0;32m\"<ipython-input-8-3beb2330e2c8>\"\u001b[0;36m, line \u001b[0;32m2\u001b[0m\n\u001b[0;31m    print(Hello world)\u001b[0m\n\u001b[0m                    ^\u001b[0m\n\u001b[0;31mSyntaxError\u001b[0m\u001b[0;31m:\u001b[0m invalid syntax\n"
          ]
        }
      ]
    },
    {
      "cell_type": "code",
      "source": [
        "#spelling mistake\n",
        "prin(\"Hello world\")"
      ],
      "metadata": {
        "colab": {
          "base_uri": "https://localhost:8080/",
          "height": 187
        },
        "id": "q9dra8tDMsK1",
        "outputId": "f3c6b8d6-6184-4c19-f0cc-502b15de3824"
      },
      "execution_count": null,
      "outputs": [
        {
          "output_type": "error",
          "ename": "NameError",
          "evalue": "ignored",
          "traceback": [
            "\u001b[0;31m---------------------------------------------------------------------------\u001b[0m",
            "\u001b[0;31mNameError\u001b[0m                                 Traceback (most recent call last)",
            "\u001b[0;32m<ipython-input-9-8cc9b229c774>\u001b[0m in \u001b[0;36m<module>\u001b[0;34m()\u001b[0m\n\u001b[1;32m      1\u001b[0m \u001b[0;31m#spelling mistake\u001b[0m\u001b[0;34m\u001b[0m\u001b[0;34m\u001b[0m\u001b[0;34m\u001b[0m\u001b[0m\n\u001b[0;32m----> 2\u001b[0;31m \u001b[0mprin\u001b[0m\u001b[0;34m(\u001b[0m\u001b[0;34m\"Hello world\"\u001b[0m\u001b[0;34m)\u001b[0m\u001b[0;34m\u001b[0m\u001b[0;34m\u001b[0m\u001b[0m\n\u001b[0m",
            "\u001b[0;31mNameError\u001b[0m: name 'prin' is not defined"
          ]
        }
      ]
    },
    {
      "cell_type": "code",
      "source": [
        "#splitting a statement over two lines\n",
        "print(\"Hello\n",
        "world\")"
      ],
      "metadata": {
        "colab": {
          "base_uri": "https://localhost:8080/",
          "height": 133
        },
        "id": "o5EYb0BvNlIZ",
        "outputId": "adc529bf-0d54-471e-b0f3-ba5baacc5baa"
      },
      "execution_count": null,
      "outputs": [
        {
          "output_type": "error",
          "ename": "SyntaxError",
          "evalue": "ignored",
          "traceback": [
            "\u001b[0;36m  File \u001b[0;32m\"<ipython-input-10-eda8791fda18>\"\u001b[0;36m, line \u001b[0;32m2\u001b[0m\n\u001b[0;31m    print(\"Hello\u001b[0m\n\u001b[0m                ^\u001b[0m\n\u001b[0;31mSyntaxError\u001b[0m\u001b[0;31m:\u001b[0m EOL while scanning string literal\n"
          ]
        }
      ]
    },
    {
      "cell_type": "code",
      "source": [
        "#printing special characters\n",
        "#how to include a newline in the middle of a string\n",
        "print(\"Hello\\nworld\")"
      ],
      "metadata": {
        "colab": {
          "base_uri": "https://localhost:8080/"
        },
        "id": "xZeBhvPtN4en",
        "outputId": "fd10305e-3773-455b-dbd7-7d30c3b958fb"
      },
      "execution_count": null,
      "outputs": [
        {
          "output_type": "stream",
          "name": "stdout",
          "text": [
            "Hello\n",
            "world\n"
          ]
        }
      ]
    },
    {
      "cell_type": "code",
      "source": [
        "#sorting strings in variables\n",
        "#store a short DNA sequence in the variable my_dna\n",
        "my_dna = \"ATGCGTA\"\n",
        "\n",
        "#now print the DNA sequence\n",
        "print(my_dna)"
      ],
      "metadata": {
        "colab": {
          "base_uri": "https://localhost:8080/"
        },
        "id": "nn7XwVsYOGD4",
        "outputId": "9b9b9e7b-4473-4cb6-b562-3c6980f57065"
      },
      "execution_count": null,
      "outputs": [
        {
          "output_type": "stream",
          "name": "stdout",
          "text": [
            "ATGCGTA\n"
          ]
        }
      ]
    },
    {
      "cell_type": "code",
      "source": [
        "#common error: include quotes around a variable name\n",
        "print(\"my_dna\")"
      ],
      "metadata": {
        "colab": {
          "base_uri": "https://localhost:8080/"
        },
        "id": "GglrLNsPOfbN",
        "outputId": "75b9a18c-eda4-4d3a-ee51-42cdadb24df3"
      },
      "execution_count": null,
      "outputs": [
        {
          "output_type": "stream",
          "name": "stdout",
          "text": [
            "my_dna\n"
          ]
        }
      ]
    },
    {
      "cell_type": "code",
      "source": [
        "#change the value of a variable as many times as you like once you've created it \n",
        "my_dna = \"ATGCGTA\"\n",
        "print(my_dna)\n",
        "\n",
        "#change the value \n",
        "my_dna = \"TGGTCCA\"\n",
        "print(my_dna)"
      ],
      "metadata": {
        "colab": {
          "base_uri": "https://localhost:8080/"
        },
        "id": "gs9I4d8NOsxy",
        "outputId": "4672bcd1-4155-4a82-a955-7068984841c5"
      },
      "execution_count": null,
      "outputs": [
        {
          "output_type": "stream",
          "name": "stdout",
          "text": [
            "ATGCGTA\n",
            "TGGTCCA\n"
          ]
        }
      ]
    },
    {
      "cell_type": "code",
      "source": [
        "#variable name doesn't matter\n",
        "banana = \"ATGCGTA\"\n",
        "print(banana)"
      ],
      "metadata": {
        "colab": {
          "base_uri": "https://localhost:8080/"
        },
        "id": "_fO-43zYO9EH",
        "outputId": "f54edf82-94b2-48dc-cb76-49201b720702"
      },
      "execution_count": null,
      "outputs": [
        {
          "output_type": "stream",
          "name": "stdout",
          "text": [
            "ATGCGTA\n"
          ]
        }
      ]
    },
    {
      "cell_type": "code",
      "source": [
        "#Concatenation\n",
        "my_dna = \"AATT\" + \"GGCC\" \n",
        "print(my_dna) "
      ],
      "metadata": {
        "colab": {
          "base_uri": "https://localhost:8080/"
        },
        "id": "jMqxNtesPEcc",
        "outputId": "e5b5d277-7b17-4556-9b6f-41463b28073b"
      },
      "execution_count": null,
      "outputs": [
        {
          "output_type": "stream",
          "name": "stdout",
          "text": [
            "AATTGGCC\n"
          ]
        }
      ]
    },
    {
      "cell_type": "code",
      "source": [
        "upstream = \"AAA\" \n",
        "my_dna = upstream + \"ATGC\" \n",
        "print(my_dna)"
      ],
      "metadata": {
        "colab": {
          "base_uri": "https://localhost:8080/"
        },
        "id": "_qYhOz0iPfnO",
        "outputId": "6d1556ec-805f-46bb-ddee-4cf4fdba5066"
      },
      "execution_count": null,
      "outputs": [
        {
          "output_type": "stream",
          "name": "stdout",
          "text": [
            "AAAATGC\n"
          ]
        }
      ]
    },
    {
      "cell_type": "code",
      "source": [
        "upstream = \"AAA\"\n",
        "downstream = \"GGG\"\n",
        "my_dna = upstream + \"ATGC\" + downstream\n",
        "print(my_dna)"
      ],
      "metadata": {
        "colab": {
          "base_uri": "https://localhost:8080/"
        },
        "id": "3XKMg95lPsik",
        "outputId": "1bb3d1c7-743d-4d46-c294-b2657b294e9d"
      },
      "execution_count": null,
      "outputs": [
        {
          "output_type": "stream",
          "name": "stdout",
          "text": [
            "AAAATGCGGG\n"
          ]
        }
      ]
    },
    {
      "cell_type": "code",
      "source": [
        "print(\"Hello\" + \" \" + \"World\")"
      ],
      "metadata": {
        "id": "WTypvMuFPy-3",
        "colab": {
          "base_uri": "https://localhost:8080/"
        },
        "outputId": "1806b5d9-1ccb-4673-8e95-33c29bc3a49f"
      },
      "execution_count": 4,
      "outputs": [
        {
          "output_type": "stream",
          "name": "stdout",
          "text": [
            "Hello World\n"
          ]
        }
      ]
    },
    {
      "cell_type": "code",
      "source": [
        "#This line won't produce any output, just a value that can be stored  \n",
        "len(\"ATGC\")"
      ],
      "metadata": {
        "colab": {
          "base_uri": "https://localhost:8080/"
        },
        "id": "JOEjRb8QZWjG",
        "outputId": "7a6a17f1-c5f8-4ffa-955f-32887f62755f"
      },
      "execution_count": 6,
      "outputs": [
        {
          "output_type": "execute_result",
          "data": {
            "text/plain": [
              "4"
            ]
          },
          "metadata": {},
          "execution_count": 6
        }
      ]
    },
    {
      "cell_type": "code",
      "source": [
        "dna_length = len(\"ATGC\")\n",
        "print(dna_length)"
      ],
      "metadata": {
        "colab": {
          "base_uri": "https://localhost:8080/"
        },
        "id": "EztacHu_Zpzw",
        "outputId": "883841e7-17be-4c85-ebe9-6f5817370df2"
      },
      "execution_count": 7,
      "outputs": [
        {
          "output_type": "stream",
          "name": "stdout",
          "text": [
            "4\n"
          ]
        }
      ]
    },
    {
      "cell_type": "code",
      "source": [
        "#store the DNA sequence in a variable \n",
        "my_dna = \"ATGCATC\"\n",
        "#calculate the length of the sequence and store it in a variable\n",
        "dna_length = len(my_dna)\n",
        "#print a message telling us the dna sequence length \n",
        "print(\"The length of the DNA sequence is \" + str(dna_length))\n",
        "print(\"The length of the DNA sequence is\", dna_length)"
      ],
      "metadata": {
        "colab": {
          "base_uri": "https://localhost:8080/"
        },
        "id": "pneIegooZxUA",
        "outputId": "a824174b-8f7f-45f9-f613-e6d48e125f9c"
      },
      "execution_count": 12,
      "outputs": [
        {
          "output_type": "stream",
          "name": "stdout",
          "text": [
            "The length of the DNA sequence is 7\n",
            "The length of the DNA sequence is 7\n"
          ]
        }
      ]
    },
    {
      "cell_type": "code",
      "source": [
        "my_dna = \"ATGC\"\n",
        "#print in lowercase\n",
        "print(my_dna.lower())"
      ],
      "metadata": {
        "colab": {
          "base_uri": "https://localhost:8080/"
        },
        "id": "8OICgZCDay0k",
        "outputId": "569056e1-755d-4525-858b-a26205b7c0d8"
      },
      "execution_count": 13,
      "outputs": [
        {
          "output_type": "stream",
          "name": "stdout",
          "text": [
            "atgc\n"
          ]
        }
      ]
    },
    {
      "cell_type": "code",
      "source": [
        "my_dna = \"ATGC\"\n",
        "#print the variable \n",
        "print(my_dna)\n",
        "#run lower method and store result \n",
        "dna_lower = my_dna.lower()\n",
        "#print the variable again\n",
        "print(my_dna)\n",
        "print(dna_lower)"
      ],
      "metadata": {
        "colab": {
          "base_uri": "https://localhost:8080/"
        },
        "id": "3h6rUjG6a__c",
        "outputId": "e08f49f3-578a-418d-fb26-d5a2ae7cb766"
      },
      "execution_count": 14,
      "outputs": [
        {
          "output_type": "stream",
          "name": "stdout",
          "text": [
            "ATGC\n",
            "ATGC\n",
            "atgc\n"
          ]
        }
      ]
    },
    {
      "cell_type": "code",
      "source": [
        "#the lower method only works on str; you can only use methods on the type they belong to \n",
        "my_number = len(\"ATGC\")\n",
        "#my number is 4 \n",
        "prin(my_number.lower())"
      ],
      "metadata": {
        "colab": {
          "base_uri": "https://localhost:8080/",
          "height": 204
        },
        "id": "2tMar-lQbcg7",
        "outputId": "6b38ebed-0e8f-4608-b7ef-28628605ae18"
      },
      "execution_count": 15,
      "outputs": [
        {
          "output_type": "error",
          "ename": "NameError",
          "evalue": "ignored",
          "traceback": [
            "\u001b[0;31m---------------------------------------------------------------------------\u001b[0m",
            "\u001b[0;31mNameError\u001b[0m                                 Traceback (most recent call last)",
            "\u001b[0;32m<ipython-input-15-6bf9a8d27a5e>\u001b[0m in \u001b[0;36m<module>\u001b[0;34m()\u001b[0m\n\u001b[1;32m      2\u001b[0m \u001b[0mmy_number\u001b[0m \u001b[0;34m=\u001b[0m \u001b[0mlen\u001b[0m\u001b[0;34m(\u001b[0m\u001b[0;34m\"ATGC\"\u001b[0m\u001b[0;34m)\u001b[0m\u001b[0;34m\u001b[0m\u001b[0;34m\u001b[0m\u001b[0m\n\u001b[1;32m      3\u001b[0m \u001b[0;31m#my number is 4\u001b[0m\u001b[0;34m\u001b[0m\u001b[0;34m\u001b[0m\u001b[0;34m\u001b[0m\u001b[0m\n\u001b[0;32m----> 4\u001b[0;31m \u001b[0mprin\u001b[0m\u001b[0;34m(\u001b[0m\u001b[0mmy_number\u001b[0m\u001b[0;34m.\u001b[0m\u001b[0mlower\u001b[0m\u001b[0;34m(\u001b[0m\u001b[0;34m)\u001b[0m\u001b[0;34m)\u001b[0m\u001b[0;34m\u001b[0m\u001b[0;34m\u001b[0m\u001b[0m\n\u001b[0m",
            "\u001b[0;31mNameError\u001b[0m: name 'prin' is not defined"
          ]
        }
      ]
    },
    {
      "cell_type": "code",
      "source": [
        "#replace method \n",
        "protein = \"vlsadwg\"\n",
        "print(protein)\n",
        "#replace the valine with tyrosine\n",
        "print(protein.replace(\"v\",\"y\"))\n",
        "#can also replace more than one character\n",
        "print(protein.replace(\"vls\",\"ymt\"))\n",
        "#again, the original variable is not affected \n",
        "print(protein)"
      ],
      "metadata": {
        "colab": {
          "base_uri": "https://localhost:8080/"
        },
        "id": "yza2QO4gb0S1",
        "outputId": "fb14ac15-4b21-4951-ddbe-58ae86d709d9"
      },
      "execution_count": 16,
      "outputs": [
        {
          "output_type": "stream",
          "name": "stdout",
          "text": [
            "vlsadwg\n",
            "ylsadwg\n",
            "ymtadwg\n",
            "vlsadwg\n"
          ]
        }
      ]
    },
    {
      "cell_type": "code",
      "source": [
        "#substring extracts part of a string\n",
        "protein = \"vlspadktnv\"\n",
        "#print positions 3 to 5 \n",
        "print(protein[3:5])\n",
        "#positions start at 0, not 1 \n",
        "print(protein[0:6])\n",
        "#if we want to use a stop position beyond the end, it's the same as using the end \n",
        "print(protein[0:60])"
      ],
      "metadata": {
        "colab": {
          "base_uri": "https://localhost:8080/"
        },
        "id": "WZYAYAjDcajX",
        "outputId": "628032a3-2a2e-4628-840d-909ac82bffad"
      },
      "execution_count": 17,
      "outputs": [
        {
          "output_type": "stream",
          "name": "stdout",
          "text": [
            "pa\n",
            "vlspad\n",
            "vlspadktnv\n"
          ]
        }
      ]
    },
    {
      "cell_type": "code",
      "source": [
        "protein = \"vlspadktnv\"\n",
        "print(protein[0])"
      ],
      "metadata": {
        "colab": {
          "base_uri": "https://localhost:8080/"
        },
        "id": "_2HjYOyLc1Y-",
        "outputId": "73e902a0-15be-4db8-afcb-c5e8ca92db81"
      },
      "execution_count": 18,
      "outputs": [
        {
          "output_type": "stream",
          "name": "stdout",
          "text": [
            "v\n"
          ]
        }
      ]
    },
    {
      "cell_type": "code",
      "source": [
        "#counting and finding substrings using method count \n",
        "#count uses strings but returns a number\n",
        "protein = \"vlspadktnv\"\n",
        "#count amino acid residues \n",
        "valine_count = protein.count('v')\n",
        "lsp_count = protein.count('lsp')\n",
        "tryptophan_count = protein.count('w')\n",
        "\n",
        "#now print the counts \n",
        "print(\"valine: \" + str(valine_count))\n",
        "print(\"lsp: \" + str(lsp_count))\n",
        "print(\"tryptophan: \" + str(tryptophan_count))\n"
      ],
      "metadata": {
        "colab": {
          "base_uri": "https://localhost:8080/"
        },
        "id": "UlezYQwVdH8D",
        "outputId": "ea742c0f-1a1c-48ca-83e3-43250c63d882"
      },
      "execution_count": 20,
      "outputs": [
        {
          "output_type": "stream",
          "name": "stdout",
          "text": [
            "valine: 2\n",
            "lsp: 1\n",
            "tryptophan: 0\n"
          ]
        }
      ]
    },
    {
      "cell_type": "code",
      "source": [
        "#find method locates substrings, giving the index of it \n",
        "protein = \"vlspadktnv\"\n",
        "print(str(protein.find('p')))\n",
        "print(str(protein.find('kt')))\n",
        "print(str(protein.find('w')))\n",
        "#for a value that doesn't exist like w, we get a -1 "
      ],
      "metadata": {
        "colab": {
          "base_uri": "https://localhost:8080/"
        },
        "id": "04obwR15d7S0",
        "outputId": "49367d52-befb-4291-fbec-8bc2766049c7"
      },
      "execution_count": 21,
      "outputs": [
        {
          "output_type": "stream",
          "name": "stdout",
          "text": [
            "3\n",
            "6\n",
            "-1\n"
          ]
        }
      ]
    },
    {
      "cell_type": "code",
      "source": [
        "dna_sequence = \"ACTGATCGATTACGTATAGTATTTGCTATCATACATATATATCGATGCGTTCAT\"\n",
        "#write a program that will print out the AT content of this sequence \n",
        "print(dna_sequence[0] + dna_sequence[2] + dna_sequence[4:5] + dna_sequence[8:11])\n",
        "\n",
        "#solution:\n",
        "#formula for calculating AT content \n",
        "dna_sequence_length = len(dna_sequence)\n",
        "A_count = dna_sequence.count('A')\n",
        "T_count = dna_sequence.count('T')\n",
        "print(\"The percentage of AT in this sequence is \" + str((A_count + T_count)/dna_sequence_length*100) + \"%\")"
      ],
      "metadata": {
        "colab": {
          "base_uri": "https://localhost:8080/"
        },
        "id": "l-sczATfeUsb",
        "outputId": "29a0b208-4a7b-4c8d-f66f-e0c198952cfa"
      },
      "execution_count": 31,
      "outputs": [
        {
          "output_type": "stream",
          "name": "stdout",
          "text": [
            "ATAATT\n",
            "The percentage of AT in this sequence is 68.51851851851852%\n"
          ]
        }
      ]
    },
    {
      "cell_type": "code",
      "source": [
        "#Complementing DNA \n",
        "dna_sequence = \"ACTGATCGATTACGTATAGTATTTGCTATCATACATATATATCGATGCGTTCAT\"\n",
        "#Write a program that will print the complement of this sequence \n",
        "complement1 = dna_sequence.replace('A','t')\n",
        "complement2 = complement1.replace('T','a')\n",
        "complement3 = complement2.replace('C','g')\n",
        "complement4 = complement3.replace('G','c')\n",
        "print(dna_sequence)\n",
        "print(complement4.upper())"
      ],
      "metadata": {
        "colab": {
          "base_uri": "https://localhost:8080/"
        },
        "id": "DpIJYhzDlDIg",
        "outputId": "095f090d-c597-43f4-bfeb-61267820bceb"
      },
      "execution_count": 4,
      "outputs": [
        {
          "output_type": "stream",
          "name": "stdout",
          "text": [
            "ACTGATCGATTACGTATAGTATTTGCTATCATACATATATATCGATGCGTTCAT\n",
            "TGACTAGCTAATGCATATCATAAACGATAGTATGTATATATAGCTACGCAAGTA\n"
          ]
        }
      ]
    },
    {
      "cell_type": "code",
      "source": [
        "#Restriction Fragment Lengths \n",
        "dna_sequence = \"ACTGATCGATTACGTATAGTAGAATTCTATCATACATATATATCGATGCGTTCAT\"\n",
        "#The sequence contains a recognition site for the EcoRI restriction enzyme, which\n",
        "#cuts at the motif G*AATTC (the position of the cut is indicated by an asterisk).\n",
        "#Write a program which will calculate the size of the two fragments that will be\n",
        "#produced when the DNA sequence is digested with EcoRI.\n",
        "\n",
        "#First splice out the segment before AATTC \n",
        "cut_site = dna_sequence.find(\"GAATTC\")\n",
        "print(cut_site)\n",
        "splice1 = dna_sequence[0:22]\n",
        "print(splice1)\n",
        "print(\"The length of fragment 1 is \" + str(len(splice1)))\n",
        "splice2 = dna_sequence[23:100]\n",
        "print(splice2)\n",
        "print(\"The length of fragment 2 is \" + str(len(splice2)))"
      ],
      "metadata": {
        "colab": {
          "base_uri": "https://localhost:8080/"
        },
        "id": "_1TmWL83msi7",
        "outputId": "3348322d-6a23-4170-f542-6e6e21d74d02"
      },
      "execution_count": 9,
      "outputs": [
        {
          "output_type": "stream",
          "name": "stdout",
          "text": [
            "21\n",
            "ACTGATCGATTACGTATAGTAG\n",
            "The length of fragment 1 is 22\n",
            "ATTCTATCATACATATATATCGATGCGTTCAT\n",
            "The length of fragment 2 is 32\n"
          ]
        }
      ]
    },
    {
      "cell_type": "code",
      "source": [
        "#Alternate solution to the previous \n",
        "my_dna = \"ACTGATCGATTACGTATAGTAGAATTCTATCATACATATATATCGATGCGTTCAT\"\n",
        "frag1_length = my_dna.find(\"GAATTC\") + 1\n",
        "frag2_length = len(my_dna) - frag1_length\n",
        "print(\"length of fragment one is \" + str(frag1_length))\n",
        "print(\"length of fragment two is \" + str(frag2_length))"
      ],
      "metadata": {
        "colab": {
          "base_uri": "https://localhost:8080/"
        },
        "id": "mSlFEuk1n8dY",
        "outputId": "c988286d-baaa-45bb-b69b-3065d58dc703"
      },
      "execution_count": 10,
      "outputs": [
        {
          "output_type": "stream",
          "name": "stdout",
          "text": [
            "length of fragment one is 22\n",
            "length of fragment two is 33\n"
          ]
        }
      ]
    },
    {
      "cell_type": "code",
      "source": [
        "#Splicing out introns, part 1 \n",
        "my_dna = \"ATCGATCGATCGATCGACTGACTAGTCATAGCTATGCATGTAGCTACTCGATCGATCGATCGATCGATCGATCGATCGATCGATCATGCTATCATCGATCGATATCGATGCATCGACTACTAT\"\n",
        "#It comprises two exons and an intron. The first exon runs from the start of the\n",
        "#sequence to the sixty-third character, and the second exon runs from the ninetyfirst character to the end of the sequence. \n",
        "#Write a program that will print just the\n",
        "#coding regions of the DNA sequence\n",
        "exon1 = my_dna[0:62]\n",
        "exon2 = my_dna[90:1000]\n",
        "print(exon1 + exon2)"
      ],
      "metadata": {
        "colab": {
          "base_uri": "https://localhost:8080/"
        },
        "id": "uS40fqPUoDXZ",
        "outputId": "2271567a-decb-4c2f-c722-b9983cb5370d"
      },
      "execution_count": 15,
      "outputs": [
        {
          "output_type": "stream",
          "name": "stdout",
          "text": [
            "ATCGATCGATCGATCGACTGACTAGTCATAGCTATGCATGTAGCTACTCGATCGATCGATCGATCATCGATCGATATCGATGCATCGACTACTAT\n"
          ]
        }
      ]
    },
    {
      "cell_type": "code",
      "source": [
        "#Splicing out introns, part 2 \n",
        "my_dna = \"ATCGATCGATCGATCGACTGACTAGTCATAGCTATGCATGTAGCTACTCGATCGATCGATCGATCGATCGATCGATCGATCGATCATGCTATCATCGATCGATATCGATGCATCGACTACTAT\"\n",
        "#write a program that will calculate what percentage\n",
        "#of the DNA sequence is coding.\n",
        "exon1 = my_dna[0:62]\n",
        "exon2 = my_dna[90:1000]\n",
        "\n",
        "#need to make a count of exon1 + exon2 using len, then a count of the total sequence length and divide the first by the second and multiply by 100 \n",
        "coding = len(exon1) + len(exon2)\n",
        "total = len(my_dna)\n",
        "coding_percent = coding/total\n",
        "print(\"The percentage of the DNA that is coding is \" + str(coding_percent*100))"
      ],
      "metadata": {
        "colab": {
          "base_uri": "https://localhost:8080/"
        },
        "id": "fAcYScPvo3A6",
        "outputId": "691b6b70-93b7-4f64-e05f-9621d22193b4"
      },
      "execution_count": 21,
      "outputs": [
        {
          "output_type": "stream",
          "name": "stdout",
          "text": [
            "The percentage of the DNA that is coding is 77.23577235772358\n"
          ]
        }
      ]
    },
    {
      "cell_type": "code",
      "source": [
        "#Splicing out introns, part 3\n",
        "#Using the data from part one, write a program that will print out the original\n",
        "#genomic DNA sequence with coding bases in uppercase and non-coding bases in\n",
        "#lowercase. \n",
        "my_dna = \"ATCGATCGATCGATCGACTGACTAGTCATAGCTATGCATGTAGCTACTCGATCGATCGATCGATCGATCGATCGATCGATCGATCATGCTATCATCGATCGATATCGATGCATCGACTACTAT\"\n",
        "\n",
        "exon1 = my_dna[0:62]\n",
        "exon2 = my_dna[90:1000]\n",
        "intron1 = my_dna[62:90]\n",
        "print(exon1 + intron1.lower() + exon2)\n",
        "\n",
        "#or avoid variables altogether \n",
        "print(my_dna[0:62] + my_dna[62:90].lower() + my_dna[90:10000])"
      ],
      "metadata": {
        "colab": {
          "base_uri": "https://localhost:8080/"
        },
        "id": "5_uKOfi4pmHS",
        "outputId": "59cbf089-552b-4e44-9e0e-e509447e7ce0"
      },
      "execution_count": 25,
      "outputs": [
        {
          "output_type": "stream",
          "name": "stdout",
          "text": [
            "ATCGATCGATCGATCGACTGACTAGTCATAGCTATGCATGTAGCTACTCGATCGATCGATCGatcgatcgatcgatcgatcgatcatgctATCATCGATCGATATCGATGCATCGACTACTAT\n",
            "ATCGATCGATCGATCGACTGACTAGTCATAGCTATGCATGTAGCTACTCGATCGATCGATCGatcgatcgatcgatcgatcgatcatgctATCATCGATCGATATCGATGCATCGACTACTAT\n"
          ]
        }
      ]
    }
  ]
}